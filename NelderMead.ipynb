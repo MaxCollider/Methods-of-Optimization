{
 "cells": [
  {
   "cell_type": "markdown",
   "id": "greatest-emperor",
   "metadata": {},
   "source": [
    "<h1>Алгоритм Нелдера — Мида</h1>"
   ]
  },
  {
   "cell_type": "markdown",
   "id": "perfect-synthesis",
   "metadata": {},
   "source": [
    "Вот, собственно, и реализация этого алгоритма для функции: $$f(x,y) = \\sin(y)e^{(1 - \\cos(x))^2} + cos(x)e^{(1 - sin(y))^2} + (x - y)^2,$$ с ограничениями: $$0 \\leq x \\leq 11$$ $$0 \\leq y \\leq 11$$"
   ]
  },
  {
   "cell_type": "code",
   "execution_count": 3,
   "id": "valuable-benchmark",
   "metadata": {},
   "outputs": [
    {
     "name": "stdout",
     "output_type": "stream",
     "text": [
      "contraction\n",
      "contraction\n",
      "contraction\n",
      "contraction\n",
      "contraction\n",
      "expantion\n",
      "contraction\n",
      "contraction\n",
      "contraction\n",
      "shrink\n",
      "contraction\n",
      "shrink\n",
      "contraction\n",
      "shrink\n",
      "contraction\n",
      "shrink\n",
      "contraction\n",
      "shrink\n",
      "contraction\n",
      "shrink\n",
      "contraction\n",
      "shrink\n",
      "function value is:  1.4884127772332427\n",
      "best point:  [0.9107666  0.63555908]\n"
     ]
    }
   ],
   "source": [
    "import numpy as np\n",
    "\n",
    "# hyperparameters\n",
    "alpha = 1\n",
    "betta = 0.5\n",
    "gamma = 2\n",
    "sigma = 0.5\n",
    "\n",
    "\n",
    "def NetherMeldAlgo(iterations: int, a=[1., 1], b=[0, 1], c=[1, 0]):\n",
    "    args = np.array([a, b, c])\n",
    "\n",
    "    while (iterations > 0 and PolyArea(args[:, 0], args[:, 1]) > 0.0000001):\n",
    "\n",
    "        iterations -= 1\n",
    "        function_values = [f(*i) for i in args]\n",
    "        ind = np.argsort(function_values)\n",
    "        prior = {ind[0]: np.array(args[0]), ind[1]: np.array(args[1]), ind[2]: np.array(args[2])}\n",
    "\n",
    "        best = prior[0]\n",
    "        good = prior[1]\n",
    "        worst = prior[2]\n",
    "        midst = (good + best) / 2\n",
    "        worst_index = np.argmax(function_values)\n",
    "\n",
    "        # reflection\n",
    "        relfected = midst + alpha * (midst - worst)\n",
    "        if f(*relfected) < f(*good) and (relfected <= 11).all: # check condition\n",
    "            # expantion\n",
    "            print(\"expantion\")\n",
    "            expanded = midst + gamma * (relfected - midst)\n",
    "\n",
    "            if f(*expanded) < f(*best) and (expanded <= 1).all: # check condition\n",
    "                args = np.delete(args, worst_index, axis=0)\n",
    "                args = np.append(args, [expanded], axis=0)\n",
    "            else:\n",
    "                args = np.delete(args, worst_index, axis=0)\n",
    "                args = np.append(args, [relfected], axis=0)\n",
    "        else:\n",
    "            # contraction\n",
    "            print(\"contraction\")\n",
    "            contracted = midst + betta * (worst - midst)\n",
    "            if f(*contracted) < f(*worst):\n",
    "                args = np.delete(args, worst_index, axis=0)\n",
    "                # print(contracted)\n",
    "                args = np.append(args, [contracted], axis=0)\n",
    "            else:\n",
    "                print(\"shrink\")\n",
    "                for i in range(0, len(args)):\n",
    "                    if (args[i] == best).all():\n",
    "                        continue\n",
    "                    args[i] = best + sigma * (args[i] - best)\n",
    "    print(\"function value is: \", np.min([f(*i) for i in args]))\n",
    "    print(\"best point: \", best)\n",
    "\n",
    "\n",
    "\n",
    "def f(x, y):\n",
    "    return np.sin(y) * np.exp((1 - np.cos(x)) ** 2) + np.cos(x) * np.exp((1 - np.sin(y)) ** 2) + (x - y) ** 2\n",
    "\n",
    "\n",
    "def PolyArea(x, y):\n",
    "    return 0.5 * np.abs(np.dot(x, np.roll(y, 1)) - np.dot(y, np.roll(x, 1)))  # shoelace algorithm\n",
    "\n",
    "\n",
    "if __name__ == '__main__':\n",
    "    NetherMeldAlgo(iterations=20, a=[1, 1], b=[1, 0], c=[0, 1])\n"
   ]
  },
  {
   "cell_type": "markdown",
   "id": "acoustic-desperate",
   "metadata": {},
   "source": [
    "<h5> 2) Теперь покажем что при других параметрах $NetherMeldAlgo$ сойдется к другой точке: </h5>"
   ]
  },
  {
   "cell_type": "code",
   "execution_count": 4,
   "id": "neither-interval",
   "metadata": {},
   "outputs": [
    {
     "name": "stdout",
     "output_type": "stream",
     "text": [
      "contraction\n",
      "expantion\n",
      "contraction\n",
      "contraction\n",
      "shrink\n",
      "expantion\n",
      "expantion\n",
      "contraction\n",
      "contraction\n",
      "expantion\n",
      "expantion\n",
      "contraction\n",
      "contraction\n",
      "contraction\n",
      "expantion\n",
      "contraction\n",
      "contraction\n",
      "shrink\n",
      "contraction\n",
      "shrink\n",
      "contraction\n",
      "shrink\n",
      "contraction\n",
      "shrink\n",
      "contraction\n",
      "shrink\n",
      "function value is:  -67.7249527036819\n",
      "best point:  [ 2.71942139 -1.68930054]\n"
     ]
    }
   ],
   "source": [
    "NetherMeldAlgo(iterations=20, a=[5, 5], b=[5, 0], c=[0, 5])"
   ]
  },
  {
   "cell_type": "markdown",
   "id": "sweet-dialogue",
   "metadata": {},
   "source": [
    "Как можно было заметить, алгоритм сходится к другой точке при других начальных значениях"
   ]
  },
  {
   "cell_type": "markdown",
   "id": "crazy-bouquet",
   "metadata": {},
   "source": [
    "<h5> 3) Теперь подберем гиперпараметры так, чтобы алгоритм сходился к другой точке </h5>"
   ]
  },
  {
   "cell_type": "code",
   "execution_count": null,
   "id": "signal-production",
   "metadata": {},
   "outputs": [],
   "source": [
    "alpha = 1.3"
   ]
  },
  {
   "cell_type": "markdown",
   "id": "armed-compression",
   "metadata": {},
   "source": [
    "Я установил гиперпараметр $\\alpha$ на $1.3$ (раньше было $1$ по умолчанию), теперь посмотрим, куда сойдется алгоритм:"
   ]
  },
  {
   "cell_type": "code",
   "execution_count": 7,
   "id": "plain-intelligence",
   "metadata": {},
   "outputs": [
    {
     "name": "stdout",
     "output_type": "stream",
     "text": [
      "expantion\n",
      "contraction\n",
      "shrink\n",
      "expantion\n",
      "contraction\n",
      "contraction\n",
      "contraction\n",
      "contraction\n",
      "contraction\n",
      "expantion\n",
      "contraction\n",
      "expantion\n",
      "expantion\n",
      "contraction\n",
      "contraction\n",
      "contraction\n",
      "contraction\n",
      "contraction\n",
      "contraction\n",
      "contraction\n",
      "contraction\n",
      "function value is:  -87.31087796224504\n",
      "best point:  [ 3.10680417 -1.54026152]\n"
     ]
    }
   ],
   "source": [
    "NetherMeldAlgo(iterations=20, a=[1, 1], b=[1, 0], c=[0, 1])"
   ]
  },
  {
   "cell_type": "markdown",
   "id": "fancy-rating",
   "metadata": {},
   "source": [
    "Как можно заметить, алгоритм опять сходиться в другую точку"
   ]
  }
 ],
 "metadata": {
  "kernelspec": {
   "display_name": "Python 3",
   "language": "python",
   "name": "python3"
  },
  "language_info": {
   "codemirror_mode": {
    "name": "ipython",
    "version": 3
   },
   "file_extension": ".py",
   "mimetype": "text/x-python",
   "name": "python",
   "nbconvert_exporter": "python",
   "pygments_lexer": "ipython3",
   "version": "3.8.10"
  }
 },
 "nbformat": 4,
 "nbformat_minor": 5
}
